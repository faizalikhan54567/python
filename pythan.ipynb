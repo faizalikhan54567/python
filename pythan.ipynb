{
  "nbformat": 4,
  "nbformat_minor": 0,
  "metadata": {
    "colab": {
      "provenance": []
    },
    "kernelspec": {
      "name": "python3",
      "display_name": "Python 3"
    },
    "language_info": {
      "name": "python"
    }
  },
  "cells": [
    {
      "cell_type": "code",
      "execution_count": null,
      "metadata": {
        "id": "ChsUqVcUnyj3"
      },
      "outputs": [],
      "source": []
    },
    {
      "cell_type": "markdown",
      "source": [
        "# pythan\n"
      ],
      "metadata": {
        "id": "Z9VFiBM9ohfe"
      }
    },
    {
      "cell_type": "markdown",
      "source": [
        "1. what is pythan\n",
        "   - Python is a computer programming language that can be used to create software, websites, and analyze data. It's a general-purpose language that can be used for a variety of tasks."
      ],
      "metadata": {
        "id": "9bRcpNrPorAE"
      }
    }
  ]
}